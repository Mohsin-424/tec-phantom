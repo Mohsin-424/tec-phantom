{
 "cells": [
  {
   "cell_type": "code",
   "execution_count": 8,
   "metadata": {},
   "outputs": [],
   "source": [
    "import numpy as np"
   ]
  },
  {
   "cell_type": "code",
   "execution_count": 9,
   "metadata": {},
   "outputs": [
    {
     "name": "stdout",
     "output_type": "stream",
     "text": [
      "[[1 2]\n",
      " [3 4]\n",
      " [5 6]] 2\n",
      "0 1 2\n"
     ]
    }
   ],
   "source": [
    "array = np.array([[1,2] , [3,4] , [5,6]])\n",
    "print(array, array.ndim)\n",
    "print(0,1,2)\n",
    "\n"
   ]
  },
  {
   "cell_type": "code",
   "execution_count": 10,
   "metadata": {},
   "outputs": [
    {
     "name": "stdout",
     "output_type": "stream",
     "text": [
      "[[4294967293 4294967293 4294967293]]\n"
     ]
    }
   ],
   "source": [
    "a = np.array([2, 3, 4], dtype=np.uint32)\n",
    "b = np.array([5, 6, 7], dtype=np.uint32)\n",
    "c = np.array([a - b])\n",
    "print( c )\n"
   ]
  },
  {
   "cell_type": "code",
   "execution_count": null,
   "metadata": {},
   "outputs": [],
   "source": []
  },
  {
   "cell_type": "code",
   "execution_count": 11,
   "metadata": {},
   "outputs": [
    {
     "name": "stdout",
     "output_type": "stream",
     "text": [
      "[[    1     2     3     3     4     5    56     4]\n",
      " [    1     2     3   434     4     5     6 56665]]\n"
     ]
    }
   ],
   "source": [
    "import numpy as np\n",
    "arr1 = np.array([[ 1,2,3,3,4,5,56,4],[1,2,3,434,4,5,6,56665]])\n",
    "print(arr1)\n"
   ]
  },
  {
   "cell_type": "code",
   "execution_count": 14,
   "metadata": {},
   "outputs": [
    {
     "name": "stdout",
     "output_type": "stream",
     "text": [
      "[[[ 1  2]\n",
      "  [ 9  8]]\n",
      "\n",
      " [[43 54]\n",
      "  [ 2  3]]]\n"
     ]
    }
   ],
   "source": [
    "arr1 = np.array([[1,2],[43,54]])\n",
    "arr2 = np.array([[9,8] , [2,3]])\n",
    "arrconc = np.stack((arr1 , arr2)  , axis = 1)\n",
    "\n",
    "print(arrconc)\n"
   ]
  },
  {
   "cell_type": "code",
   "execution_count": 20,
   "metadata": {},
   "outputs": [
    {
     "name": "stdout",
     "output_type": "stream",
     "text": [
      "[[ 1  2  9  8]\n",
      " [43 54  2  3]]\n"
     ]
    }
   ],
   "source": [
    "arr1 = np.array([[1,2],[43,54]])\n",
    "arr2 = np.array([[9,8] , [2,3]])\n",
    "arrconc = np.hstack((arr1 , arr2) )\n",
    "\n",
    "print(arrconc)\n"
   ]
  },
  {
   "cell_type": "code",
   "execution_count": 27,
   "metadata": {},
   "outputs": [
    {
     "ename": "TypeError",
     "evalue": "'numpy.ndarray' object is not callable",
     "output_type": "error",
     "traceback": [
      "\u001b[1;31m---------------------------------------------------------------------------\u001b[0m",
      "\u001b[1;31mTypeError\u001b[0m                                 Traceback (most recent call last)",
      "Cell \u001b[1;32mIn[27], line 3\u001b[0m\n\u001b[0;32m      1\u001b[0m x \u001b[38;5;241m=\u001b[39m np\u001b[38;5;241m.\u001b[39marange(\u001b[38;5;241m9.0\u001b[39m)\n\u001b[0;32m      2\u001b[0m np\u001b[38;5;241m.\u001b[39msplit(x, \u001b[38;5;241m3\u001b[39m)\n\u001b[1;32m----> 3\u001b[0m [\u001b[43marray\u001b[49m\u001b[43m(\u001b[49m\u001b[43m[\u001b[49m\u001b[38;5;241;43m0.\u001b[39;49m\u001b[43m,\u001b[49m\u001b[43m  \u001b[49m\u001b[38;5;241;43m1.\u001b[39;49m\u001b[43m,\u001b[49m\u001b[43m  \u001b[49m\u001b[38;5;241;43m2.\u001b[39;49m\u001b[43m]\u001b[49m\u001b[43m)\u001b[49m, array([\u001b[38;5;241m3.\u001b[39m,  \u001b[38;5;241m4.\u001b[39m,  \u001b[38;5;241m5.\u001b[39m]), array([\u001b[38;5;241m6.\u001b[39m,  \u001b[38;5;241m7.\u001b[39m,  \u001b[38;5;241m8.\u001b[39m])]\n\u001b[0;32m      4\u001b[0m x \u001b[38;5;241m=\u001b[39m np\u001b[38;5;241m.\u001b[39marange(\u001b[38;5;241m8.0\u001b[39m)\n\u001b[0;32m      5\u001b[0m np\u001b[38;5;241m.\u001b[39msplit(x, [\u001b[38;5;241m3\u001b[39m, \u001b[38;5;241m5\u001b[39m, \u001b[38;5;241m6\u001b[39m, \u001b[38;5;241m10\u001b[39m])\n",
      "\u001b[1;31mTypeError\u001b[0m: 'numpy.ndarray' object is not callable"
     ]
    }
   ],
   "source": []
  },
  {
   "cell_type": "code",
   "execution_count": null,
   "metadata": {},
   "outputs": [],
   "source": []
  },
  {
   "cell_type": "code",
   "execution_count": null,
   "metadata": {},
   "outputs": [],
   "source": []
  },
  {
   "cell_type": "code",
   "execution_count": null,
   "metadata": {},
   "outputs": [],
   "source": []
  }
 ],
 "metadata": {
  "kernelspec": {
   "display_name": "Python 3",
   "language": "python",
   "name": "python3"
  },
  "language_info": {
   "codemirror_mode": {
    "name": "ipython",
    "version": 3
   },
   "file_extension": ".py",
   "mimetype": "text/x-python",
   "name": "python",
   "nbconvert_exporter": "python",
   "pygments_lexer": "ipython3",
   "version": "3.12.5"
  }
 },
 "nbformat": 4,
 "nbformat_minor": 2
}
